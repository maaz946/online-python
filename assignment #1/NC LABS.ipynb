{
 "cells": [
  {
   "cell_type": "markdown",
   "id": "c5d36d62",
   "metadata": {},
   "source": [
    "# NC LAB 1 TASK"
   ]
  },
  {
   "cell_type": "code",
   "execution_count": 2,
   "id": "9416e57d",
   "metadata": {},
   "outputs": [
    {
     "name": "stdout",
     "output_type": "stream",
     "text": [
      "exetct value 9.513986399606658\n",
      "aproxx value 10.264591895383516\n",
      "0.3333333333333333\n"
     ]
    }
   ],
   "source": [
    "import math\n",
    "\n",
    "x=2\n",
    "y=3.5*math.exp(0.5*x)\n",
    "print(\"exetct value\",y)\n",
    "\n",
    "z=7*math.exp(0.5*x)\n",
    "h=0.3\n",
    "y1=h+x\n",
    "y2=7*math.exp(0.5*y1)\n",
    "y3=(y2-z)/h\n",
    "print(\"aproxx value\",y3)\n",
    "print(1/3)"
   ]
  },
  {
   "cell_type": "code",
   "execution_count": 32,
   "id": "e0f2f488",
   "metadata": {},
   "outputs": [
    {
     "name": "stdout",
     "output_type": "stream",
     "text": [
      "exect value -0.273928675434146\n",
      "aprox value -0.27213978628014557\n",
      "true vlue y + 0.272139786280146\n"
     ]
    }
   ],
   "source": [
    "#task 1\n",
    "\n",
    "x=3\n",
    "y6=-2.5*cos(0.5/x)/x**2\n",
    "print(\"exect value\",y6)\n",
    "\n",
    "\n",
    "y1=5*math.sin(0.5/x)\n",
    "h=0.02\n",
    "z=x+h\n",
    "y2=5*math.sin(0.5/z)\n",
    "\n",
    "y3=(y2-y1)/0.02\n",
    "print(\"aprox value\",y3)\n",
    "\n",
    "\n",
    "trueValue=y-y3\n",
    "print(\"true vlue\",trueValue)"
   ]
  },
  {
   "cell_type": "code",
   "execution_count": 17,
   "id": "7ef703bf",
   "metadata": {},
   "outputs": [
    {
     "name": "stdout",
     "output_type": "stream",
     "text": [
      "8*x\n"
     ]
    }
   ],
   "source": [
    "from sympy import *\n",
    "x = Symbol('x')\n",
    "f = 4*x**2\n",
    "f_dif = f.diff(x)\n",
    "print(f_dif)"
   ]
  },
  {
   "cell_type": "code",
   "execution_count": 18,
   "id": "36465930",
   "metadata": {},
   "outputs": [
    {
     "name": "stdout",
     "output_type": "stream",
     "text": [
      "8*x\n"
     ]
    }
   ],
   "source": [
    "import sympy as s\n",
    "x=s.Symbol('x')\n",
    "f = 4*x**2\n",
    "f_dif = f.diff(x)\n",
    "print(f_dif)"
   ]
  },
  {
   "cell_type": "code",
   "execution_count": 19,
   "id": "c75fbf31",
   "metadata": {},
   "outputs": [
    {
     "name": "stdout",
     "output_type": "stream",
     "text": [
      "15*exp(3*x)*sin(x) + 5*exp(3*x)*cos(x)\n"
     ]
    }
   ],
   "source": [
    "x = Symbol('x')\n",
    "f = 5*s.sin(x)*s.exp(3*x)\n",
    "f_dif = f.diff(x)\n",
    "print(f_dif)"
   ]
  },
  {
   "cell_type": "code",
   "execution_count": 2,
   "id": "5c8965c1",
   "metadata": {},
   "outputs": [
    {
     "name": "stdout",
     "output_type": "stream",
     "text": [
      "16.0000000000000\n"
     ]
    }
   ],
   "source": [
    "import sympy as s\n",
    "x=s.Symbol('x')\n",
    "f = 4*x**2\n",
    "f_dif = f.diff(x).evalf(subs={x: 2})\n",
    "print(f_dif)"
   ]
  },
  {
   "cell_type": "code",
   "execution_count": 27,
   "id": "770a8bfd",
   "metadata": {},
   "outputs": [
    {
     "name": "stdout",
     "output_type": "stream",
     "text": [
      "2*x\n",
      "3*y**2 + 2\n"
     ]
    }
   ],
   "source": [
    "x ,y =s.symbols('x y')\n",
    "expr=x**2 + 2*y + y**3\n",
    "expr_dif = expr.diff(x)\n",
    "expr_dif1 = expr.diff(y)\n",
    "print(expr_dif)\n",
    "print(expr_dif1)"
   ]
  },
  {
   "cell_type": "code",
   "execution_count": 31,
   "id": "c59a02e5",
   "metadata": {},
   "outputs": [
    {
     "name": "stdout",
     "output_type": "stream",
     "text": [
      "-2.5*cos(0.5/x)/x**2\n",
      "-0.273928675434146\n"
     ]
    }
   ],
   "source": [
    "x = Symbol('x')\n",
    "f =5*s.sin(0.5/x)\n",
    "f_dif = f.diff(x)\n",
    "f_dif1 = f.diff(x).evalf(subs={x: 3})\n",
    "print(f_dif)\n",
    "print(f_dif1)"
   ]
  },
  {
   "cell_type": "code",
   "execution_count": 12,
   "id": "4a7a8821",
   "metadata": {},
   "outputs": [
    {
     "ename": "NameError",
     "evalue": "name 'Symbol' is not defined",
     "output_type": "error",
     "traceback": [
      "\u001b[1;31m---------------------------------------------------------------------------\u001b[0m",
      "\u001b[1;31mNameError\u001b[0m                                 Traceback (most recent call last)",
      "\u001b[1;32m<ipython-input-12-047ed8bfb7ba>\u001b[0m in \u001b[0;36m<module>\u001b[1;34m\u001b[0m\n\u001b[1;32m----> 1\u001b[1;33m \u001b[0mx\u001b[0m \u001b[1;33m=\u001b[0m \u001b[0mSymbol\u001b[0m\u001b[1;33m(\u001b[0m\u001b[1;34m'x'\u001b[0m\u001b[1;33m)\u001b[0m\u001b[1;33m\u001b[0m\u001b[1;33m\u001b[0m\u001b[0m\n\u001b[0m\u001b[0;32m      2\u001b[0m \u001b[0mf\u001b[0m \u001b[1;33m=\u001b[0m\u001b[1;36m5\u001b[0m\u001b[1;33m*\u001b[0m\u001b[0mx\u001b[0m\u001b[1;33m**\u001b[0m\u001b[1;36m3\u001b[0m \u001b[1;33m+\u001b[0m \u001b[1;36m6\u001b[0m\u001b[1;33m*\u001b[0m\u001b[0mx\u001b[0m\u001b[1;33m**\u001b[0m\u001b[1;36m2\u001b[0m \u001b[1;33m+\u001b[0m\u001b[0mx\u001b[0m \u001b[1;33m+\u001b[0m\u001b[1;36m13\u001b[0m\u001b[1;33m\u001b[0m\u001b[1;33m\u001b[0m\u001b[0m\n\u001b[0;32m      3\u001b[0m \u001b[0mf_dif\u001b[0m \u001b[1;33m=\u001b[0m \u001b[0mf\u001b[0m\u001b[1;33m.\u001b[0m\u001b[0mdiff\u001b[0m\u001b[1;33m(\u001b[0m\u001b[0mx\u001b[0m\u001b[1;33m)\u001b[0m\u001b[1;33m\u001b[0m\u001b[1;33m\u001b[0m\u001b[0m\n\u001b[0;32m      4\u001b[0m \u001b[0mf_dif1\u001b[0m \u001b[1;33m=\u001b[0m \u001b[0mf\u001b[0m\u001b[1;33m.\u001b[0m\u001b[0mdiff\u001b[0m\u001b[1;33m(\u001b[0m\u001b[0mx\u001b[0m\u001b[1;33m)\u001b[0m\u001b[1;33m.\u001b[0m\u001b[0mevalf\u001b[0m\u001b[1;33m(\u001b[0m\u001b[0msubs\u001b[0m\u001b[1;33m=\u001b[0m\u001b[1;33m{\u001b[0m\u001b[0mx\u001b[0m\u001b[1;33m:\u001b[0m \u001b[1;36m3\u001b[0m\u001b[1;33m}\u001b[0m\u001b[1;33m)\u001b[0m\u001b[1;33m\u001b[0m\u001b[1;33m\u001b[0m\u001b[0m\n\u001b[0;32m      5\u001b[0m \u001b[0mprint\u001b[0m\u001b[1;33m(\u001b[0m\u001b[0mf_dif\u001b[0m\u001b[1;33m)\u001b[0m\u001b[1;33m\u001b[0m\u001b[1;33m\u001b[0m\u001b[0m\n",
      "\u001b[1;31mNameError\u001b[0m: name 'Symbol' is not defined"
     ]
    }
   ],
   "source": [
    "x = Symbol('x')\n",
    "f =5*x**3 + 6*x**2 +x +13\n",
    "f_dif = f.diff(x)\n",
    "f_dif1 = f.diff(x).evalf(subs={x: 3})\n",
    "print(f_dif)\n",
    "print(f_dif1)"
   ]
  },
  {
   "cell_type": "code",
   "execution_count": 10,
   "id": "c7de9320",
   "metadata": {},
   "outputs": [
    {
     "name": "stdout",
     "output_type": "stream",
     "text": [
      "the iteration: 1 and the value of c :1.0\n",
      "the iteration: 2 and the value of c :0.0\n",
      "the iteration: 3 and the value of c :-0.5\n",
      "the iteration: 4 and the value of c :-0.75\n",
      "the iteration: 5 and the value of c :-0.875\n",
      "the iteration: 6 and the value of c :-0.8125\n",
      "the iteration: 7 and the value of c :-0.84375\n",
      "the iteration: 8 and the value of c :-0.859375\n",
      "the iteration: 9 and the value of c :-0.8671875\n",
      "the iteration: 10 and the value of c :-0.86328125\n",
      "the iteration: 11 and the value of c :-0.865234375\n",
      "the iteration: 12 and the value of c :-0.8642578125\n",
      "the iteration: 13 and the value of c :-0.86376953125\n",
      "the iteration: 14 and the value of c :-0.864013671875\n",
      "the iteration: 15 and the value of c :-0.8641357421875\n",
      "the iteration: 16 and the value of c :-0.86419677734375\n",
      "None\n"
     ]
    }
   ],
   "source": [
    "def funt(x):\n",
    "    return 2*x*s.cos(2*x)-(x+1)*2\n",
    "    #return x*s.cos(x)-2*x**2+3*x-1\n",
    "    #return s.cos(x)-1.3*x\n",
    "    #return x**3 -x-1\n",
    "\n",
    "def bisection(a,b):\n",
    "    if(funt(a)*funt(b)>=0):\n",
    "        print(\"put different value\")\n",
    "        return\n",
    "    c=a\n",
    "    i=0\n",
    "    while ((b-a)>=0.0001):\n",
    "        c=(a+b)/2\n",
    "        i+=1\n",
    "        print(f\"the iteration: {i} and the value of c :{c}\")\n",
    "        if funt(c)==0:\n",
    "            break\n",
    "        elif(funt(a)*funt(c)<0):\n",
    "            b=c\n",
    "        else:\n",
    "            a=c\n",
    "        \n",
    "        \n",
    "print(bisection(-1,3))\n",
    "            "
   ]
  },
  {
   "cell_type": "code",
   "execution_count": 24,
   "id": "3a99cf03",
   "metadata": {},
   "outputs": [
    {
     "name": "stdout",
     "output_type": "stream",
     "text": [
      "a at iteration0 is : -1 and b at iteration 0 is : 0\n",
      "-0.165850700000000\n",
      "the iteration: 0 and the value of c :-0.5\n",
      "\n",
      "a at iteration1 is : -0.5 and b at iteration 1 is : 0\n",
      "absolute error at iteration 1 is : 50.0%\n",
      "-0.0255382000000000\n",
      "the iteration: 1 and the value of c :-0.25\n",
      "\n",
      "a at iteration2 is : -0.25 and b at iteration 2 is : 0\n",
      "absolute error at iteration 2 is : 25.0%\n",
      "-0.00413195000000000\n",
      "the iteration: 2 and the value of c :-0.125\n",
      "\n",
      "None\n"
     ]
    }
   ],
   "source": [
    "def funt(x):\n",
    "    return x**3 -0.165*x**2 +3.993*0.0001\n",
    "\n",
    "def bisection(a,b):\n",
    "    if(funt(a)*funt(b)>=0):\n",
    "        print(\"put different value\")\n",
    "        return\n",
    "    c=a\n",
    "    c1=0\n",
    "    \n",
    "    for i in range(3):\n",
    "        print(f\"a at iteration{i} is : {a} and b at iteration {i} is : {b}\")\n",
    "        if(i>0):\n",
    "            approxx=(c-c1)*100\n",
    "            print(f\"absolute error at iteration {i} is : {abs(approxx)}%\")\n",
    "        c=(a+b)/2\n",
    "        if funt(c)==0:\n",
    "            break\n",
    "        elif(funt(a)*funt(c)<0):\n",
    "            b=c\n",
    "        else:\n",
    "            a=c\n",
    "        \n",
    "        f_dif1 = funt(x).evalf(subs={x: c})\n",
    "        print(f_dif1)\n",
    "        print(f\"the iteration: {i} and the value of c :{c}\\n\")\n",
    "print(bisection(-1,0))"
   ]
  },
  {
   "cell_type": "code",
   "execution_count": 14,
   "id": "80f3c10a",
   "metadata": {},
   "outputs": [
    {
     "name": "stdout",
     "output_type": "stream",
     "text": [
      "a at iteration0 is : -1 and b at iteration 0 is : 3\n",
      "the iteration: 1 and the value of c :1.0\n",
      "a at iteration1 is : -1 and b at iteration 1 is : 1.0\n",
      "absolute error at iteration 1 is : 100.0%\n",
      "the iteration: 2 and the value of c :0.0\n",
      "a at iteration2 is : -1 and b at iteration 2 is : 0.0\n",
      "absolute error at iteration 2 is : 0.0%\n",
      "the iteration: 3 and the value of c :-0.5\n",
      "None\n"
     ]
    }
   ],
   "source": [
    "def funt(x):\n",
    "    return 2*x*s.cos(2*x)-(x+1)*2\n",
    "    #return x*s.cos(x)-2*x**2+3*x-1\n",
    "    #return s.cos(x)-1.3*x\n",
    "    #return x**3 -x-1\n",
    "\n",
    "def bisection(a,b):\n",
    "    if(funt(a)*funt(b)>=0):\n",
    "        print(\"put different value\")\n",
    "        return\n",
    "    c=a\n",
    "    i=0\n",
    "    c1=0\n",
    "    \n",
    "    for i in range(3):\n",
    "        print(f\"a at iteration{i} is : {a} and b at iteration {i} is : {b}\")\n",
    "        if(i>0):\n",
    "            approxx=(c-c1)*100\n",
    "            print(f\"absolute error at iteration {i} is : {abs(approxx)}%\")\n",
    "        c=(a+b)/2\n",
    "        i+=1\n",
    "        print(f\"the iteration: {i} and the value of c :{c}\")\n",
    "        if funt(c)==0:\n",
    "            break\n",
    "        elif(funt(a)*funt(c)<0):\n",
    "            b=c\n",
    "        else:\n",
    "            a=c\n",
    "        \n",
    "        \n",
    "print(bisection(-1,3))\n",
    "            "
   ]
  },
  {
   "cell_type": "markdown",
   "id": "f18a5de4",
   "metadata": {},
   "source": [
    "# lab 2\n"
   ]
  },
  {
   "cell_type": "code",
   "execution_count": 18,
   "id": "31895efe",
   "metadata": {},
   "outputs": [
    {
     "name": "stdout",
     "output_type": "stream",
     "text": [
      "-3*x**3*exp(5*x)*sin(x**4/2)/2 + 15*exp(5*x)*cos(x**4/2)/4\n"
     ]
    }
   ],
   "source": [
    "import sympy as s\n",
    "x = s.Symbol('x')\n",
    "f =3*s.cos((x**4)/2)/4*s.exp(5*x)\n",
    "f_dif = f.diff(x)\n",
    "print(f_dif)"
   ]
  },
  {
   "cell_type": "code",
   "execution_count": 19,
   "id": "3256b216",
   "metadata": {},
   "outputs": [
    {
     "name": "stdout",
     "output_type": "stream",
     "text": [
      "9*x**2*(tan(x**3)**2 + 1)*log(x**2) + 6*tan(x**3)/x\n"
     ]
    }
   ],
   "source": [
    "import sympy as s\n",
    "x = s.Symbol('x')\n",
    "f =3*s.ln(x**2)*s.tan(x**3)\n",
    "f_dif = f.diff(x)\n",
    "print(f_dif)"
   ]
  },
  {
   "cell_type": "code",
   "execution_count": 15,
   "id": "9d658799",
   "metadata": {},
   "outputs": [
    {
     "name": "stdout",
     "output_type": "stream",
     "text": [
      "30*x + 3\n",
      "183.000000000000\n"
     ]
    }
   ],
   "source": [
    "import sympy as s\n",
    "x = s.Symbol('x')\n",
    "f =15*x**2+3*x-1\n",
    "f_dif = f.diff(x)\n",
    "f_dif1 = f.diff(x).evalf(subs={x: 6})\n",
    "print(f_dif)\n",
    "print(f_dif1)"
   ]
  },
  {
   "cell_type": "markdown",
   "id": "ae1bc6bc",
   "metadata": {},
   "source": [
    "# falsi method"
   ]
  },
  {
   "cell_type": "code",
   "execution_count": 1,
   "id": "8fd70175",
   "metadata": {},
   "outputs": [
    {
     "name": "stdout",
     "output_type": "stream",
     "text": [
      "the iteration: 1 and the value of c :0.31631306468916365\n",
      "the iteration: 2 and the value of c :0.48686330158488267\n",
      "the iteration: 3 and the value of c :0.5662206934852541\n",
      "the iteration: 4 and the value of c :0.6003342639453854\n",
      "the iteration: 5 and the value of c :0.6144773441766834\n",
      "the iteration: 6 and the value of c :0.6202514299726931\n",
      "None\n"
     ]
    }
   ],
   "source": [
    "import math as s\n",
    "\n",
    "def funt(x):\n",
    "    #return 2*x*s.cos(2*x)-(x+1)*2/\n",
    "    #return x*s.cos(x)-2*x**2+3*x-1\n",
    "    return s.cos(x)-1.3*x\n",
    "    #return x**3 -x-1\n",
    "\n",
    "def bisection(a,b):\n",
    "    if(funt(a)*funt(b)>=0):\n",
    "        print(\"put different value\")\n",
    "        return\n",
    "    c=a\n",
    "    i=0\n",
    "    while (abs(funt(c))>=0.01):\n",
    "        c=((a*funt(b))-(b*funt(a)))/funt(b)-funt(a)\n",
    "        i+=1\n",
    "        print(f\"the iteration: {i} and the value of c :{c}\")\n",
    "        if funt(c)==0:\n",
    "            break\n",
    "        elif(funt(a)*funt(c)<0):\n",
    "            b=c\n",
    "        else:\n",
    "            a=c\n",
    "\n",
    "        \n",
    "print(bisection(0,1))"
   ]
  },
  {
   "cell_type": "code",
   "execution_count": 2,
   "id": "8f922937",
   "metadata": {},
   "outputs": [
    {
     "name": "stdout",
     "output_type": "stream",
     "text": [
      "the iteration: 1 and the value of c :2.8508157176809252\n",
      "the iteration: 2 and the value of c :35.444180074472804\n",
      "the iteration: 3 and the value of c :6961.923168843543\n",
      "the iteration: 4 and the value of c :276276616.566069\n",
      "the iteration: 5 and the value of c :4.351985055720873e+17\n",
      "the iteration: 6 and the value of c :1.0798761039066859e+36\n",
      "the iteration: 7 and the value of c :6.648857148429112e+72\n",
      "the iteration: 8 and the value of c :2.5205373922196003e+146\n",
      "the iteration: 9 and the value of c :3.622308453605516e+293\n"
     ]
    },
    {
     "ename": "OverflowError",
     "evalue": "(34, 'Result too large')",
     "output_type": "error",
     "traceback": [
      "\u001b[1;31m---------------------------------------------------------------------------\u001b[0m",
      "\u001b[1;31mOverflowError\u001b[0m                             Traceback (most recent call last)",
      "\u001b[1;32m<ipython-input-2-5909bc8ca564>\u001b[0m in \u001b[0;36m<module>\u001b[1;34m\u001b[0m\n\u001b[0;32m     25\u001b[0m \u001b[1;33m\u001b[0m\u001b[0m\n\u001b[0;32m     26\u001b[0m \u001b[1;33m\u001b[0m\u001b[0m\n\u001b[1;32m---> 27\u001b[1;33m \u001b[0mprint\u001b[0m\u001b[1;33m(\u001b[0m\u001b[0mbisection\u001b[0m\u001b[1;33m(\u001b[0m\u001b[1;36m0\u001b[0m\u001b[1;33m,\u001b[0m\u001b[1;36m1\u001b[0m\u001b[1;33m)\u001b[0m\u001b[1;33m)\u001b[0m\u001b[1;33m\u001b[0m\u001b[1;33m\u001b[0m\u001b[0m\n\u001b[0m",
      "\u001b[1;32m<ipython-input-2-5909bc8ca564>\u001b[0m in \u001b[0;36mbisection\u001b[1;34m(a, b)\u001b[0m\n\u001b[0;32m     17\u001b[0m         \u001b[0mi\u001b[0m\u001b[1;33m+=\u001b[0m\u001b[1;36m1\u001b[0m\u001b[1;33m\u001b[0m\u001b[1;33m\u001b[0m\u001b[0m\n\u001b[0;32m     18\u001b[0m         \u001b[0mprint\u001b[0m\u001b[1;33m(\u001b[0m\u001b[1;34mf\"the iteration: {i} and the value of c :{c}\"\u001b[0m\u001b[1;33m)\u001b[0m\u001b[1;33m\u001b[0m\u001b[1;33m\u001b[0m\u001b[0m\n\u001b[1;32m---> 19\u001b[1;33m         \u001b[1;32mif\u001b[0m \u001b[0mfunt\u001b[0m\u001b[1;33m(\u001b[0m\u001b[0mc\u001b[0m\u001b[1;33m)\u001b[0m\u001b[1;33m==\u001b[0m\u001b[1;36m0\u001b[0m\u001b[1;33m:\u001b[0m\u001b[1;33m\u001b[0m\u001b[1;33m\u001b[0m\u001b[0m\n\u001b[0m\u001b[0;32m     20\u001b[0m             \u001b[1;32mbreak\u001b[0m\u001b[1;33m\u001b[0m\u001b[1;33m\u001b[0m\u001b[0m\n\u001b[0;32m     21\u001b[0m         \u001b[1;32melif\u001b[0m\u001b[1;33m(\u001b[0m\u001b[0mfunt\u001b[0m\u001b[1;33m(\u001b[0m\u001b[0ma\u001b[0m\u001b[1;33m)\u001b[0m\u001b[1;33m*\u001b[0m\u001b[0mfunt\u001b[0m\u001b[1;33m(\u001b[0m\u001b[0mc\u001b[0m\u001b[1;33m)\u001b[0m\u001b[1;33m<\u001b[0m\u001b[1;36m0\u001b[0m\u001b[1;33m)\u001b[0m\u001b[1;33m:\u001b[0m\u001b[1;33m\u001b[0m\u001b[1;33m\u001b[0m\u001b[0m\n",
      "\u001b[1;32m<ipython-input-2-5909bc8ca564>\u001b[0m in \u001b[0;36mfunt\u001b[1;34m(x)\u001b[0m\n\u001b[0;32m      3\u001b[0m \u001b[1;32mdef\u001b[0m \u001b[0mfunt\u001b[0m\u001b[1;33m(\u001b[0m\u001b[0mx\u001b[0m\u001b[1;33m)\u001b[0m\u001b[1;33m:\u001b[0m\u001b[1;33m\u001b[0m\u001b[1;33m\u001b[0m\u001b[0m\n\u001b[0;32m      4\u001b[0m     \u001b[1;31m#return 2*x*s.cos(2*x)-(x+1)*2/\u001b[0m\u001b[1;33m\u001b[0m\u001b[1;33m\u001b[0m\u001b[1;33m\u001b[0m\u001b[0m\n\u001b[1;32m----> 5\u001b[1;33m     \u001b[1;32mreturn\u001b[0m \u001b[0mx\u001b[0m\u001b[1;33m*\u001b[0m\u001b[0ms\u001b[0m\u001b[1;33m.\u001b[0m\u001b[0mcos\u001b[0m\u001b[1;33m(\u001b[0m\u001b[0mx\u001b[0m\u001b[1;33m)\u001b[0m\u001b[1;33m-\u001b[0m\u001b[1;36m2\u001b[0m\u001b[1;33m*\u001b[0m\u001b[0mx\u001b[0m\u001b[1;33m**\u001b[0m\u001b[1;36m2\u001b[0m\u001b[1;33m+\u001b[0m\u001b[1;36m3\u001b[0m\u001b[1;33m*\u001b[0m\u001b[0mx\u001b[0m\u001b[1;33m-\u001b[0m\u001b[1;36m1\u001b[0m\u001b[1;33m\u001b[0m\u001b[1;33m\u001b[0m\u001b[0m\n\u001b[0m\u001b[0;32m      6\u001b[0m     \u001b[1;31m#return s.cos(x)-1.3*x\u001b[0m\u001b[1;33m\u001b[0m\u001b[1;33m\u001b[0m\u001b[1;33m\u001b[0m\u001b[0m\n\u001b[0;32m      7\u001b[0m     \u001b[1;31m#return x**3 -x-1\u001b[0m\u001b[1;33m\u001b[0m\u001b[1;33m\u001b[0m\u001b[1;33m\u001b[0m\u001b[0m\n",
      "\u001b[1;31mOverflowError\u001b[0m: (34, 'Result too large')"
     ]
    }
   ],
   "source": [
    "import math as s\n",
    "\n",
    "def funt(x):\n",
    "    #return 2*x*s.cos(2*x)-(x+1)*2/\n",
    "    return x*s.cos(x)-2*x**2+3*x-1\n",
    "    #return s.cos(x)-1.3*x\n",
    "    #return x**3 -x-1\n",
    "\n",
    "def bisection(a,b):\n",
    "    if(funt(a)*funt(b)>=0):\n",
    "        print(\"put different value\")\n",
    "        return\n",
    "    c=a\n",
    "    i=0\n",
    "    while (abs(funt(c))>=0.001):\n",
    "        c=((a*funt(b))-(b*funt(a)))/funt(b)-funt(a)\n",
    "        i+=1\n",
    "        print(f\"the iteration: {i} and the value of c :{c}\")\n",
    "        if funt(c)==0:\n",
    "            break\n",
    "        elif(funt(a)*funt(c)<0):\n",
    "            b=c\n",
    "        else:\n",
    "            a=c\n",
    "\n",
    "        \n",
    "print(bisection(0,1))"
   ]
  },
  {
   "cell_type": "code",
   "execution_count": 7,
   "id": "eafbf316",
   "metadata": {},
   "outputs": [
    {
     "name": "stdout",
     "output_type": "stream",
     "text": [
      "the iteration: 1 and the value of c :0.6492232052047624\n",
      "the iteration: 2 and the value of c :0.4003030688834415\n",
      "the iteration: 3 and the value of c :0.32047822598169645\n",
      "the iteration: 4 and the value of c :0.3022857253190827\n",
      "the iteration: 5 and the value of c :0.2984997047718129\n",
      "the iteration: 6 and the value of c :0.2977272066148109\n",
      "the iteration: 7 and the value of c :0.2975702262416565\n",
      "the iteration: 8 and the value of c :0.29753835246188237\n",
      "None\n"
     ]
    }
   ],
   "source": [
    "import math as s\n",
    "\n",
    "def funt(x):\n",
    "    #return 2*x*s.cos(2*x)-(x+1)*2\n",
    "    return x*s.cos(x)-2*x**2+3*x-1\n",
    "    #return s.cos(x)-1.3*x\n",
    "    #return x**3 -x-1\n",
    "\n",
    "def bisection(a,b):\n",
    "    if(funt(a)*funt(b)>=0):\n",
    "        print(\"put different value\")\n",
    "        return\n",
    "    c=a\n",
    "    i=0\n",
    "    while (abs(funt(c))>=0.0001):\n",
    "        c=((a*funt(b))-(b*funt(a)))/(funt(b)-funt(a))\n",
    "        i+=1\n",
    "        print(f\"the iteration: {i} and the value of c :{c}\")\n",
    "        if funt(c)==0:\n",
    "            break\n",
    "        elif(funt(a)*funt(c)<0):\n",
    "            b=c\n",
    "        else:\n",
    "            a=c\n",
    "\n",
    "        \n",
    "print(bisection(0,1))"
   ]
  },
  {
   "cell_type": "code",
   "execution_count": 17,
   "id": "89c0efa8",
   "metadata": {},
   "outputs": [
    {
     "name": "stdout",
     "output_type": "stream",
     "text": [
      "the iteration: 1 and the value of c :0.08397261561842563\n",
      "the iteration: 2 and the value of c :-0.6817309204854296\n",
      "the iteration: 3 and the value of c :-0.848589415759856\n",
      "the iteration: 4 and the value of c :-0.8632010311725874\n",
      "the iteration: 5 and the value of c :-0.8641870667645878\n",
      "the iteration: 6 and the value of c :-0.8642520114349772\n",
      "None\n"
     ]
    }
   ],
   "source": [
    "import math as s\n",
    "\n",
    "def funt(x):\n",
    "    return 2*x*s.cos(2*x)-(x+1)*2\n",
    "    #return x*s.cos(x)-2*x**2+3*x-1\n",
    "    #return s.cos(x)-1.3*x\n",
    "    #return x**3 -x-1\n",
    "\n",
    "def bisection(a,b):\n",
    "    if(funt(a)*funt(b)>=0):\n",
    "        print(\"put different value\")\n",
    "        return\n",
    "    c=a\n",
    "    i=0\n",
    "    while (abs(funt(c))>=0.0001):\n",
    "        c=((a*funt(b))-(b*funt(a)))/(funt(b)-funt(a))\n",
    "        i+=1\n",
    "        print(f\"the iteration: {i} and the value of c :{c}\")\n",
    "        if funt(c)==0:\n",
    "            break\n",
    "        elif(funt(a)*funt(c)<0):\n",
    "            b=c\n",
    "        else:\n",
    "            a=c\n",
    "\n",
    "        \n",
    "print(bisection(-1,3))"
   ]
  },
  {
   "cell_type": "code",
   "execution_count": null,
   "id": "c55b21e7",
   "metadata": {},
   "outputs": [],
   "source": []
  },
  {
   "cell_type": "code",
   "execution_count": null,
   "id": "1d2caa4a",
   "metadata": {},
   "outputs": [],
   "source": []
  },
  {
   "cell_type": "code",
   "execution_count": 1,
   "id": "bdf11427",
   "metadata": {},
   "outputs": [
    {
     "name": "stdout",
     "output_type": "stream",
     "text": [
      "First Guess: -1\n",
      "Second Guess: 3\n",
      "Tolerable Error: 0.01\n",
      "\n",
      "\n",
      "*** FALSE POSITION METHOD IMPLEMENTATION ***\n",
      "Iteration-1, x2 = 0.083973 and f(x2) = -2.002363\n",
      "Iteration-2, x2 = -0.681731 and f(x2) = -0.917210\n",
      "Iteration-3, x2 = -0.848589 and f(x2) = -0.088898\n",
      "Iteration-4, x2 = -0.863201 and f(x2) = -0.006043\n",
      "\n",
      "Required root is: -0.86320103\n"
     ]
    }
   ],
   "source": [
    "import sympy as s\n",
    "\n",
    "# Defining Function\n",
    "def f(x):\n",
    "    return 2*x*s.cos(2*x)-(x+1)*2\n",
    "\n",
    "# Implementing False Position Method\n",
    "def falsePosition(x0,x1,e):\n",
    "    step = 1\n",
    "    print('\\n\\n*** FALSE POSITION METHOD IMPLEMENTATION ***')\n",
    "    condition = True\n",
    "    while condition:\n",
    "        x2 = x0 - (x1-x0) * f(x0)/( f(x1) - f(x0) )\n",
    "        print('Iteration-%d, x2 = %0.6f and f(x2) = %0.6f' % (step, x2, f(x2)))\n",
    "\n",
    "        if f(x0) * f(x2) < 0:\n",
    "            x1 = x2\n",
    "        else:\n",
    "            x0 = x2\n",
    "\n",
    "        step = step + 1\n",
    "        condition = abs(f(x2)) > e\n",
    "\n",
    "    print('\\nRequired root is: %0.8f' % x2)\n",
    "\n",
    "x0 = float(input('First Guess: '))\n",
    "x1 = float(input('Second Guess: '))\n",
    "e = float(input('Tolerable Error: '))\n",
    "\n",
    "if f(x0) * f(x1) > 0.0:\n",
    "    print('Given guess values do not bracket the root.')\n",
    "    print('Try Again with different guess values.')\n",
    "else:\n",
    "    falsePosition(x0,x1,e)"
   ]
  },
  {
   "cell_type": "code",
   "execution_count": null,
   "id": "7b8288b6",
   "metadata": {},
   "outputs": [],
   "source": [
    "from sympy import *\n",
    "def secantError(func,a,b,tolerance):\n",
    "    if (func(a) * func(b) >= 0):\n",
    "        print(\"You have not assumed right a and b\\n\")\n",
    "        return\n",
    "\n",
    "    c = a\n",
    "    iteration=1\n",
    "    while ((b-a) >= tolerance):\n",
    "\n",
    "        c =  x0 = ((x1 * f(x2) - x2 * f(x1)) /\n",
    "                            (f(x2) - f(x1)));\n",
    "\n",
    "        if (func(c) == 0.0):\n",
    "            break\n",
    " # Decide the side to repeat the steps\n",
    "        if (func(c)*func(a) < 0):\n",
    "        \n",
    "        \n",
    "          b = c\n",
    "    \n",
    "        else:\n",
    "            a = c\n",
    "\n",
    "\n",
    "        print(\"The value of root at iteration {0} is : {1}\".format(iteration,c))\n",
    "        Ea=0\n",
    "        if (iteration>1):\n",
    "            Ea=abs(((c-prevRoot)/c)*100)\n",
    "        print(\"Approx error at iteration {0} is {1}\".format(iteration,Ea))\n",
    "        prevRoot=c\n",
    "\n",
    "        if iteration==3:\n",
    "            break\n",
    "        iteration-=-1\n",
    "\n",
    "        print(\"The value of root is : \",c)\n",
    "def func4(x):\n",
    "    y=x**3-0.165*x**2+3.993*10**-4\n",
    "    return y\n",
    "secantError(func4,-1,0,0.01)"
   ]
  },
  {
   "cell_type": "code",
   "execution_count": null,
   "id": "446e61d6",
   "metadata": {},
   "outputs": [],
   "source": []
  }
 ],
 "metadata": {
  "kernelspec": {
   "display_name": "Python 3",
   "language": "python",
   "name": "python3"
  },
  "language_info": {
   "codemirror_mode": {
    "name": "ipython",
    "version": 3
   },
   "file_extension": ".py",
   "mimetype": "text/x-python",
   "name": "python",
   "nbconvert_exporter": "python",
   "pygments_lexer": "ipython3",
   "version": "3.8.8"
  }
 },
 "nbformat": 4,
 "nbformat_minor": 5
}
